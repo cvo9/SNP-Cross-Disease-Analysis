{
 "cells": [
  {
   "cell_type": "markdown",
   "metadata": {},
   "source": [
    "# SNP Cross Disease Analysis"
   ]
  },
  {
   "cell_type": "markdown",
   "metadata": {},
   "source": [
    "Perform analysis on SNPs linked with specific diseases and produce results and plots. Make sure there is a subfolder named \"plots\" and subfolders within \"plots\" named \"boxplots\", \"violinplots\", and \"scatterplots\" to save plots to. (Alternatively, rename where the plots are saved within the code.)"
   ]
  },
  {
   "cell_type": "markdown",
   "metadata": {},
   "source": [
    "# Disease Analysis"
   ]
  },
  {
   "cell_type": "markdown",
   "metadata": {},
   "source": [
    "Specific libraries are imported."
   ]
  },
  {
   "cell_type": "code",
   "execution_count": 2,
   "metadata": {
    "collapsed": true
   },
   "outputs": [],
   "source": [
    "import csv\n",
    "import numpy as np\n",
    "import collections as col\n",
    "import random\n",
    "import matplotlib.pyplot as plt\n",
    "from scipy.stats import norm\n",
    "from scipy.stats import ks_2samp"
   ]
  },
  {
   "cell_type": "markdown",
   "metadata": {},
   "source": [
    "The lists of diseases and information relevant to files containing SNP effect size for these diseases such as file name, indices in files that contain SNP ID and effect size, and delimiters for the file type are initialized. The 11 specific diseases/traits/disorders analyzed are Alzheimer's, Parkinson's, Schizophrenia, Autism, Depression, Type 2 Diabetes, Body Mass Index, Obesity, Asthma, Smoking, and LDL Cholesterol Levels. The summary statistics for SNP effect size for each disease files are included and are all obtained from links on http://ldsc.broadinstitute.org/gwashare/. For each disease, the effect size may use Beta, which is centered around 0, or Odds Ratio, which is centered around 1."
   ]
  },
  {
   "cell_type": "code",
   "execution_count": 3,
   "metadata": {
    "collapsed": true
   },
   "outputs": [],
   "source": [
    "# List of diseases\n",
    "diseases = [\"Alzheimer\", \"Parkinson\", \"Schizophrenia\", \"Autism\", \"Depress\", \"Type 2 Diabetes\", \"Body Mass Index\", \"Obesity\", \"Asthma\", \"Smok\", \"LDL\"]\n",
    "\n",
    "numdiseases = len(diseases)\n",
    "\n",
    "# List of disease summary statistics file names\n",
    "diseasefiles = [\"alzheimerssumstats.txt\", \"parkinsonssumstats.txt\", \"schizophreniasumstats.txt\", \"autismsumstats.txt\", \"depressionsumstats3.txt\", \"type2diabetessumstats.txt\", \"bmisumstats.txt\", \"obesitysumstats.txt\", \"asthmasumstats.txt\", \"smokingsumstats.tbl\", \"ldlsumstats.txt\"]\n",
    "\n",
    "# List of corresponding indices for snpids and effect sizes for each disease file\n",
    "fileindices = [(2, 5), (0, 13), (0, 5), (0, 5), (0, 6), (0, 6), (0, 7), (0, 4), (1, 7), (1, 8), (2, 5)]\n",
    "\n",
    "# List of corresponding file delimiters\n",
    "filedelimiters = [\"\\t\", \"\\t\", \"\\t\", \"\\t\", \"\\t\", \"\\t\", \"\\t\", \" \", \"\\t\", \"\\t\", \"\\t\"]"
   ]
  },
  {
   "cell_type": "markdown",
   "metadata": {},
   "source": [
    "Additional data structures to store SNPs linked with each disease, SNP effect sizes for each disease, and whether or not there is a known effect size for a SNP for a specific disease are initialized."
   ]
  },
  {
   "cell_type": "code",
   "execution_count": 4,
   "metadata": {
    "collapsed": true
   },
   "outputs": [],
   "source": [
    "# Dictionary of sets of Disease-related SNPs\n",
    "snps = col.defaultdict(set)\n",
    "\n",
    "# Dictionary of dicts from SNP to Beta for each disease\n",
    "allsnpbetas = col.defaultdict(dict)\n",
    "\n",
    "# Dictionary of disease to dict that tells whether SNP has known effect size from disease files or not\n",
    "snpsindict = col.defaultdict(lambda: col.defaultdict(lambda: \"no\"))\n",
    "\n",
    "# Dictionary of SNP to information about SNP from associations file\n",
    "snpsinfo = {}\n",
    "\n",
    "# List of sets of disease-related SNPs for each disease\n",
    "diseasesnps = []\n",
    "\n",
    "# List of sets of disease-related SNP betas for the same disease\n",
    "diseasesnpbetas = []\n",
    "\n",
    "# Lists of indicies of diseases summary statistics files that use beta vs odds ratio for effect size\n",
    "betainds = [0, 4, 6, 7, 9, 10]\n",
    "oddsinds = [1, 2, 3, 5, 8]"
   ]
  },
  {
   "cell_type": "markdown",
   "metadata": {},
   "source": [
    "The filtered list of associations from SNAP is loaded and SNPs are read and categorized by disease/trait. The number of SNPs linked with each disease is printed."
   ]
  },
  {
   "cell_type": "code",
   "execution_count": 5,
   "metadata": {
    "collapsed": false
   },
   "outputs": [
    {
     "name": "stdout",
     "output_type": "stream",
     "text": [
      "Number of Alzheimer SNPs: 95\n",
      "Number of Parkinson SNPs: 68\n",
      "Number of Schizophrenia SNPs: 37\n",
      "Number of Autism SNPs: 32\n",
      "Number of Depress SNPs: 38\n",
      "Number of Type 2 Diabetes SNPs: 19\n",
      "Number of Body Mass Index SNPs: 60\n",
      "Number of Obesity SNPs: 31\n",
      "Number of Asthma SNPs: 48\n",
      "Number of Smok SNPs: 17\n",
      "Number of LDL SNPs: 16\n"
     ]
    }
   ],
   "source": [
    "# Read filtered SNPs and stores SNPs related to the specific diseases\n",
    "with open(\"snapfiltered.associations.new2.tsv\") as new:\n",
    "    for line in csv.reader(new, delimiter=\"\\t\"):\n",
    "        snpid = line[1]\n",
    "        pheno = line[2]\n",
    "        for disease in diseases:\n",
    "            if disease.upper() in pheno.upper():\n",
    "                snps[disease].add(snpid)\n",
    "                paper = line[0]\n",
    "                pvalue = line[4]\n",
    "                snpsinfo[snpid] = (snpid, pheno, paper, pvalue)\n",
    "                break\n",
    "\n",
    "snps = {key: list(values) for key, values in snps.items()} # turns dict of sets into dict of lists\n",
    "numsnps = [len(snps[disease]) for disease in diseases] # list of number of SNPs linked with each disease\n",
    "\n",
    "for i in range(numdiseases):\n",
    "    print \"Number of \" + diseases[i] + \" SNPs:\", numsnps[i]"
   ]
  },
  {
   "cell_type": "markdown",
   "metadata": {},
   "source": [
    "All of the files that contain SNP effect size for each disease are read and the effect sizes are stored."
   ]
  },
  {
   "cell_type": "code",
   "execution_count": 6,
   "metadata": {
    "collapsed": true
   },
   "outputs": [],
   "source": [
    "# Function to tell if input string is float or not\n",
    "def is_number(s):\n",
    "    try:\n",
    "        float(s)\n",
    "        return True\n",
    "    except ValueError:\n",
    "        return False\n",
    "\n",
    "# Read disease files\n",
    "for i in range(numdiseases):\n",
    "    disease = diseases[i]\n",
    "    file = diseasefiles[i]\n",
    "    snpindex = fileindices[i][0]\n",
    "    betaindex = fileindices[i][1]\n",
    "    delim = filedelimiters[i]\n",
    "    with open(file) as new:\n",
    "        for line in csv.reader(new, delimiter=delim):\n",
    "            snpid = line[snpindex]\n",
    "            if not is_number(line[betaindex]):\n",
    "                continue\n",
    "            beta = float(line[betaindex])\n",
    "            allsnpbetas[disease][snpid] = beta\n",
    "            snpsindict[disease][snpid] = \"yes\""
   ]
  },
  {
   "cell_type": "markdown",
   "metadata": {},
   "source": [
    "The cross disease analysis is then performed. For each disease 1's set of linked SNPs, for each disease 2, the average effect size of disease 1 linked SNPs is calculated for disease 2 (which leads to 11 average effect sizes for disease 1 SNPs, one for each disease 2). Then a number of random samples of SNPs (1000 in this case) of the same number of disease 1 SNPs for which there was a known effect size for disease 2 are chosen and their average effect sizes are calculated. Using this permutation test, we can determine whether or not the effect size for disease 1 SNPs with respect to disease 2 is significant or not by calculating a simple p-value of (total samples - # random samples where the effect size for the disease 1 sample > effect size for random sample) / (total samples). The number of disease 1 SNPs with known effect size for disease 2, average effect sizes, p-values, and -log(p-values) are stored in matrices. A p-value using the normal approximation is also calculated.\n",
    "\n",
    "Additionally, for analyses of disease 1 SNPs with the same disease (when disease 1 = disease 2), scatterplots of the mean of the effect sizes of the sample of disease 1 SNPs are plotted along with the means of the 1000 random samples of SNPs for that disease."
   ]
  },
  {
   "cell_type": "code",
   "execution_count": 7,
   "metadata": {
    "collapsed": true
   },
   "outputs": [],
   "source": [
    "# Create list of cross disease matrices for number of disease1 SNPs with known effect size for disease2, average effect sizes, p-values using perumtation test, log p-values, and normal approx. p-values\n",
    "crossdiseases = [np.zeros((numdiseases, numdiseases)) for i in range(5)]\n",
    "\n",
    "totalsamples = 1000\n",
    "\n",
    "# Information used for later plots\n",
    "allavgsamplebetas = [] # list of lists that contain the mean effect size for the random samples for each disease \n",
    "allavgbetas = [] # list mean effect size for the disease linked SNPs with the same disease for each disease\n",
    "\n",
    "for i in range(numdiseases):\n",
    "    disease1 = diseases[i]\n",
    "    snplist = snps[disease1] # disease1 linked SNPs\n",
    "    for j in range(numdiseases):\n",
    "        disease2 = diseases[j]\n",
    "        snpbetas = []\n",
    "        dsnplist = []\n",
    "        for snp in snplist:\n",
    "            if snpsindict[disease2][snp] == \"no\": # if no effect size for disease2 for a disease1 linked SNP, skip\n",
    "                continue\n",
    "            snpbetas.append(allsnpbetas[disease2][snp]) # add effect size of SNP to list\n",
    "            dsnplist.append(snp) # add SNP name to list\n",
    "\n",
    "        if i == j: # if disease linked SNPs analyzed with same disease, get information\n",
    "            diseasesnps.append(dsnplist)\n",
    "            diseasesnpbetas.append(snpbetas)\n",
    "        \n",
    "        # Number of disease1 linked SNPs that have known effect size for disease2 and their average effect sizes\n",
    "        numsnpbetas = len(snpbetas)\n",
    "        avgbeta = np.mean(snpbetas)\n",
    "\n",
    "        # Create random samples of all known SNPs with effect size for disease2\n",
    "        allsnps = allsnpbetas[disease2].keys()\n",
    "        avgsamplebetas = []\n",
    "        for k in range(totalsamples):\n",
    "            randsample = random.sample(allsnps, numsnpbetas)\n",
    "            avgsamplebeta = np.mean([allsnpbetas[disease2][snp] for snp in randsample])\n",
    "            avgsamplebetas.append(avgsamplebeta)\n",
    "\n",
    "        # Plot Scatter if disease-linked snps with same disease, abs(beta) if using beta and abs(log(OR)) if using odds ratio\n",
    "        if i == j:\n",
    "            allavgsamplebetas.append(avgsamplebetas)\n",
    "            allavgbetas.append(avgbeta)\n",
    "            plt.clf()\n",
    "            if i in betainds:\n",
    "                plt.plot(range(1, totalsamples + 1), np.absolute(avgsamplebetas), 'bo', markersize=5, label=\"Random SNP Samples\")\n",
    "                plt.plot((0, totalsamples + 1), (np.absolute(avgbeta), np.absolute(avgbeta)), 'r-', label=disease1 + \" SNPs\")\n",
    "            else:\n",
    "                plt.plot(range(1, totalsamples + 1), np.log10(np.absolute(avgsamplebetas)), 'bo', markersize=5, label=\"Random SNP Samples\")\n",
    "                plt.plot((0, totalsamples + 1), (np.log10(np.absolute(avgbeta)), np.log10(np.absolute(avgbeta))), 'r-', label=disease1 + \" SNPs\")\n",
    "            plt.title(\"Average Effect Size of \"+ disease1 + \" SNPs vs \" + str(totalsamples) + \" Random Samples\", fontsize=10)\n",
    "            plt.xlabel(\"Sample\")\n",
    "            if i in betainds:\n",
    "                plt.ylabel(\"|Average Effect Size| (Beta)\")\n",
    "            else:\n",
    "                plt.ylabel(\"log|Average Effect Size| (Odds Ratio)\")\n",
    "            plt.xlim(0, totalsamples + 1)\n",
    "            plt.legend(loc=\"upper right\", handlelength=1, handleheight=1, fontsize=5)\n",
    "            plt.savefig(\"plots/scatterplots/\" + disease1 + \"scatter.pdf\")\n",
    "\n",
    "        # Get p-value of disease1 SNPs being linked to disease2\n",
    "\n",
    "        # Get p-val for normal dist assumption\n",
    "        samplemean = np.mean(avgsamplebetas)\n",
    "        sampledev = np.std(avgsamplebetas)\n",
    "        zscore = (avgbeta - samplemean) / sampledev\n",
    "        npval = norm.sf(zscore)\n",
    "\n",
    "        # P-val for permutation test using the random samples\n",
    "        numgreaterthan = len([beta for beta in avgsamplebetas if avgbeta > beta])\n",
    "        pval = float(totalsamples + 1 - numgreaterthan) / (totalsamples + 1)\n",
    "\n",
    "        # Store cross disease analysis p-values and other information\n",
    "        crossdiseases[0][i][j] = numsnpbetas\n",
    "        crossdiseases[1][i][j] = avgbeta\n",
    "        crossdiseases[2][i][j] = pval\n",
    "        crossdiseases[3][i][j] = -np.log10(pval)\n",
    "        crossdiseases[4][i][j] = npval"
   ]
  },
  {
   "cell_type": "markdown",
   "metadata": {},
   "source": [
    "Furthermore, the Kolmogorov-Smirnov p-values between the disease 1 linked SNPs and the whole distribution of all SNPs with effect sizes for disease 1 are computed which basically tells how likely it is that the two samples come from the same distribution. Lists of all SNPs that have a known effect size for each disease are also found and stored for later plots."
   ]
  },
  {
   "cell_type": "code",
   "execution_count": 8,
   "metadata": {
    "collapsed": true
   },
   "outputs": [],
   "source": [
    "# Lists of all SNPs for each disease and their averages\n",
    "alldiseasesnpbetas = []\n",
    "alldiseasesnpsavg = []\n",
    "\n",
    "ksstats = [] # list of KS pvals of each disease's linked SNPs with whole distribution of SNPs with effect size for that disease\n",
    "\n",
    "# Only want to plot values that are within two standard deviations to have clear ranges on plots and not saturate axes\n",
    "for i in range(numdiseases):\n",
    "    diseasebetas = allsnpbetas[diseases[i]].values()\n",
    "    diseaseavg = np.mean(diseasebetas)\n",
    "    diseasestd = np.std(diseasebetas)\n",
    "    ndiseasebetas = [beta for beta in diseasebetas if beta <= diseaseavg + (2 * diseasestd) and beta >= diseaseavg - (2 * diseasestd)]\n",
    "    ndiseaseavg = np.mean(ndiseasebetas)\n",
    "    alldiseasesnpbetas.append(ndiseasebetas)\n",
    "    alldiseasesnpsavg.append(ndiseaseavg)\n",
    "    ksstat, kspval = ks_2samp(diseasesnpbetas[i], diseasebetas)\n",
    "    ksstats.append(kspval)"
   ]
  },
  {
   "cell_type": "markdown",
   "metadata": {},
   "source": [
    "All of this information regarding number of each disesase linked SNPs that have effect size for all other diseases, cross disease p-values, KS p-value, and which diseases each set of disease-linked SNPs are significant in are all printed to an output file."
   ]
  },
  {
   "cell_type": "code",
   "execution_count": 9,
   "metadata": {
    "collapsed": true
   },
   "outputs": [],
   "source": [
    "# Write results to file\n",
    "results = open(\"crossdiseases.txt\", \"w\")\n",
    "\n",
    "results.write(\"Number of Row Disease SNPs with Known Effect Size for Column Disease SNPs, Average Effect Size of Row Disease SNPs for Column Disease, P-Value for Row Disease Snps Effect Size for Column Disease Matrices\\n\\n\")\n",
    "\n",
    "for i in range(numdiseases):\n",
    "    results.write(\"Number of \" + diseases[i] + \" SNPs: \" + str(numsnps[i]) + \"\\n\")\n",
    "results.write(\"\\n\")\n",
    "\n",
    "for disease in diseases:\n",
    "    results.write(disease + \"\\t\")\n",
    "results.write(\"\\n\\n\")\n",
    "\n",
    "numsnpbetasmatrix = crossdiseases[0]\n",
    "results.write(\"Number of Row Disease SNPs with Known Effect Size for Column Disease\\n\")\n",
    "for i in range(numdiseases):\n",
    "    for j in range(numdiseases):\n",
    "        results.write(str(numsnpbetasmatrix[i][j]) + \"\\t\")\n",
    "    results.write(\"\\n\")\n",
    "results.write(\"\\n\")\n",
    "\n",
    "avgbetamatrix = crossdiseases[1]\n",
    "results.write(\"Average Effect Size of Row Disease SNPs for Column Disease\\n\")\n",
    "for i in range(numdiseases):\n",
    "    for j in range(numdiseases):\n",
    "        results.write(str(avgbetamatrix[i][j]) + \"\\t\")\n",
    "    results.write(\"\\n\")\n",
    "results.write(\"\\n\")\n",
    "\n",
    "npvalmatrix = crossdiseases[4]\n",
    "results.write(\"P-Value of Row Disease SNPs for Column Disease Using Normal Approximation\\n\")\n",
    "for i in range(numdiseases):\n",
    "    for j in range(numdiseases):\n",
    "        results.write(str(npvalmatrix[i][j]) + \"\\t\")\n",
    "    results.write(\"\\n\")\n",
    "results.write(\"\\n\")\n",
    "\n",
    "pvalmatrix = crossdiseases[2]\n",
    "results.write(\"P-Value of Row Disease SNPs for Column Disease Using Permutation Test\\n\")\n",
    "for i in range(numdiseases):\n",
    "    for j in range(numdiseases):\n",
    "        results.write(str(pvalmatrix[i][j]) + \"\\t\")\n",
    "    results.write(\"\\n\")\n",
    "results.write(\"\\n\")\n",
    "\n",
    "logmatrix = crossdiseases[3]\n",
    "results.write(\"-log of P-Value of Row Disease SNPs for Column Disease Using Permutation Test\\n\")\n",
    "for i in range(numdiseases):\n",
    "    for j in range(numdiseases):\n",
    "        results.write(str(logmatrix[i][j]) + \"\\t\")\n",
    "    results.write(\"\\n\")\n",
    "results.write(\"\\n\")\n",
    "\n",
    "results.write(\"KS P-Value of Disease SNPs with All SNPs with Effect Size for that Disease\\n\")\n",
    "for i in range(numdiseases):\n",
    "    results.write(diseases[i] + \": \" + str(ksstats[i]) + \"\\n\")\n",
    "results.write(\"\\n\")\n",
    "\n",
    "significancethresh = 0.05\n",
    "\n",
    "for i in range(numdiseases):\n",
    "    results.write(\"Other Diseases where \" + diseases[i] + \" SNPs have Significant Normal Approximation P-Values: \")\n",
    "    for j in range(numdiseases):\n",
    "        if npvalmatrix[i][j] <= significancethresh:\n",
    "            results.write(diseases[j] + \": \" + str(npvalmatrix[i][j]) + \", \")\n",
    "    results.write(\"\\n\")\n",
    "results.write(\"\\n\")\n",
    "\n",
    "for i in range(numdiseases):\n",
    "    results.write(\"Other Diseases where \" + diseases[i] + \" SNPs have Significant Permutation Test P-Values: \")\n",
    "    for j in range(numdiseases):\n",
    "        if pvalmatrix[i][j] <= significancethresh:\n",
    "            results.write(diseases[j] + \": \" + str(pvalmatrix[i][j]) + \", \")\n",
    "    results.write(\"\\n\")\n",
    "results.write(\"\\n\")\n",
    "\n",
    "results.close()"
   ]
  },
  {
   "cell_type": "markdown",
   "metadata": {},
   "source": [
    "SNPs linked to each disease are also printed to an output file."
   ]
  },
  {
   "cell_type": "code",
   "execution_count": 10,
   "metadata": {
    "collapsed": true
   },
   "outputs": [],
   "source": [
    "diseasesnpfile = open(\"diseasesnps.txt\", \"w\")\n",
    "\n",
    "diseasesnpfile.write(\"SNP\\tPheno\\tPaper\\tP-Value\\n\")\n",
    "for i in range(numdiseases):\n",
    "    diseasesnpfile.write(diseases[i] + \" related SNPs:\\n\")\n",
    "    for snp in diseasesnps[i]:\n",
    "        snpinfo = snpsinfo[snp]\n",
    "        diseasesnpfile.write(snpinfo[0] + \"\\t\" + snpinfo[1] + \"\\t\" + snpinfo[2] + \"\\t\" + snpinfo[3] + \"\\n\")\n",
    "    diseasesnpfile.write(\"\\n\")\n",
    "\n",
    "diseasesnpfile.close()"
   ]
  },
  {
   "cell_type": "markdown",
   "metadata": {},
   "source": [
    "Create a heatmap of cross disease p-values."
   ]
  },
  {
   "cell_type": "code",
   "execution_count": 11,
   "metadata": {
    "collapsed": true
   },
   "outputs": [],
   "source": [
    "plt.clf()\n",
    "plt.imshow(logmatrix, interpolation='nearest')\n",
    "plt.colorbar()\n",
    "plt.savefig(\"plots/heatmap.pdf\")"
   ]
  },
  {
   "cell_type": "markdown",
   "metadata": {},
   "source": [
    "# Creating Plots"
   ]
  },
  {
   "cell_type": "markdown",
   "metadata": {},
   "source": [
    "Box and Violin plots are created to compare distributions of disease-linked SNPs with the distributions of all SNPs with known effect sizes for that disease. For these plots, we want to plot the absolute value abs(beta) if the effect size is beta and the absolute value of the log abs(log(odds)) if the effect size is odd ratio for clearer comparisons of distributions."
   ]
  },
  {
   "cell_type": "markdown",
   "metadata": {},
   "source": [
    "Lists of data are created for plots with all diseases on them."
   ]
  },
  {
   "cell_type": "code",
   "execution_count": 12,
   "metadata": {
    "collapsed": true
   },
   "outputs": [],
   "source": [
    "# Lists of lists of effect sizes for disease linked SNPs and all SNPs with effect size based on whether beta or OR is used\n",
    "betadata = []\n",
    "oddsdata = []\n",
    "\n",
    "# Lists of indices of disease data for accurate labeling on plots\n",
    "betapos = []\n",
    "oddspos = []\n",
    "\n",
    "pos = range(1, 2 * numdiseases + 1)\n",
    "labels = []\n",
    "\n",
    "betalabels = []\n",
    "oddslabels = []\n",
    "\n",
    "# Add data to lists depending on beta or odds ratio\n",
    "for i in range(numdiseases):\n",
    "    if i in betainds:\n",
    "        betadata.append(np.absolute(diseasesnpbetas[i]))\n",
    "        betadata.append(np.absolute(alldiseasesnpbetas[i]))\n",
    "        betapos.append(i * 2 + 1)\n",
    "        betapos.append(i * 2 + 2)\n",
    "        betalabels.append(diseases[i][:3])\n",
    "        betalabels.append(\"All \" + diseases[i][:3])\n",
    "    else:\n",
    "        oddsdata.append(np.absolute(np.log10(diseasesnpbetas[i])))\n",
    "        oddsdata.append(np.absolute(np.log10(alldiseasesnpbetas[i])))\n",
    "        oddspos.append(i * 2 + 1)\n",
    "        oddspos.append(i * 2 + 2)\n",
    "        oddslabels.append(diseases[i][:3])\n",
    "        oddslabels.append(\"All \" + diseases[i][:3])\n",
    "    labels.append(diseases[i][:3])\n",
    "    labels.append(\"All \" + diseases[i][:3])"
   ]
  },
  {
   "cell_type": "markdown",
   "metadata": {},
   "source": [
    "All the violin plots for each disease are plotted onto one figure."
   ]
  },
  {
   "cell_type": "code",
   "execution_count": 13,
   "metadata": {
    "collapsed": true
   },
   "outputs": [],
   "source": [
    "# All violin plots on one plot using two different y-axes, one for beta and one for odds ratio\n",
    "plt.clf()\n",
    "fig, ax1 = plt.subplots()\n",
    "a1 = ax1.violinplot(betadata, betapos, points=40, widths=.5, showmeans=True, showextrema=True)\n",
    "ax1.set_ylabel('|Beta|', color='r')\n",
    "ax1.set_xlabel(\"Disease Distribution of SNPs\")\n",
    "values = [val for sublist in betadata for val in sublist]\n",
    "ax1.set_ylim([np.min(values) - .1, np.max(values) + .1])\n",
    "ax1.tick_params(axis='x', labelsize=5)\n",
    "\n",
    "a1[\"cbars\"].set_color('r')\n",
    "a1[\"cmeans\"].set_color('r')\n",
    "a1[\"cmins\"].set_color('r')\n",
    "a1[\"cmaxes\"].set_color('r')\n",
    "\n",
    "ax2 = ax1.twinx()\n",
    "a2 = ax2.violinplot(oddsdata, oddspos, points=40, widths=.4, showmeans=True, showextrema=True)\n",
    "ax2.set_ylabel('|log(Odds Ratio)|', color='b')\n",
    "values = [val for sublist in oddsdata for val in sublist]\n",
    "ax2.set_ylim([np.min(values) - .1, np.max(values) + .1])\n",
    "\n",
    "a2[\"cbars\"].set_color('b')\n",
    "a2[\"cmeans\"].set_color('b')\n",
    "a2[\"cmins\"].set_color('b')\n",
    "a2[\"cmaxes\"].set_color('b')\n",
    "\n",
    "plt.xticks(pos, labels)\n",
    "plt.title(\"All Disease Violin Plots\", fontsize=10)\n",
    "fig.tight_layout()\n",
    "plt.savefig(\"plots/allviolin.pdf\")"
   ]
  },
  {
   "cell_type": "markdown",
   "metadata": {},
   "source": [
    "Two separate violin plots are created, one containing plots diseases with beta as effect size, the other containing plots diseases with odds ratio as effect size."
   ]
  },
  {
   "cell_type": "code",
   "execution_count": 14,
   "metadata": {
    "collapsed": true
   },
   "outputs": [],
   "source": [
    "# Two Separate Violin Plots\n",
    "newbetapos = range(1, len(betadata) + 1)\n",
    "newoddspos = range(1, len(oddsdata) + 1)\n",
    "\n",
    "plt.clf()\n",
    "a1 = plt.violinplot(betadata, newbetapos, points=40, widths=.5, showmeans=True, showextrema=True)\n",
    "plt.ylabel('|Beta|', color='r')\n",
    "plt.xlabel(\"Disease Distribution of SNPs\")\n",
    "values = [val for sublist in betadata for val in sublist]\n",
    "plt.ylim([np.min(values) - .1, np.max(values) + .1])\n",
    "plt.tick_params(axis='x', labelsize=5)\n",
    "\n",
    "a1[\"cbars\"].set_color('r')\n",
    "a1[\"cmeans\"].set_color('r')\n",
    "a1[\"cmins\"].set_color('r')\n",
    "a1[\"cmaxes\"].set_color('r')\n",
    "\n",
    "plt.xticks(newbetapos, betalabels)\n",
    "plt.title(\"All Disease Violin Plots with Beta Effect Size\", fontsize=10)\n",
    "plt.savefig(\"plots/betaviolin.pdf\")\n",
    "\n",
    "\n",
    "plt.clf()\n",
    "a2 = plt.violinplot(oddsdata, newoddspos, points=40, widths=.5, showmeans=True, showextrema=True)\n",
    "plt.ylabel('|log(Odds Ratio)|', color='b')\n",
    "values = [val for sublist in oddsdata for val in sublist]\n",
    "plt.ylim([np.min(values) - .1, np.max(values) + .1])\n",
    "\n",
    "a2[\"cbars\"].set_color('b')\n",
    "a2[\"cmeans\"].set_color('b')\n",
    "a2[\"cmins\"].set_color('b')\n",
    "a2[\"cmaxes\"].set_color('b')\n",
    "\n",
    "plt.xticks(newoddspos, oddslabels)\n",
    "plt.title(\"All Disease Violin Plots\", fontsize=10)\n",
    "plt.savefig(\"plots/oddsviolin.pdf\")"
   ]
  },
  {
   "cell_type": "markdown",
   "metadata": {},
   "source": [
    "All scatterplots are also plotted onto one figure."
   ]
  },
  {
   "cell_type": "code",
   "execution_count": 15,
   "metadata": {
    "collapsed": true
   },
   "outputs": [],
   "source": [
    "cols = 3\n",
    "rows = int(np.ceil(float(numdiseases) / cols))\n",
    "\n",
    "plt.clf()\n",
    "fig, axes = plt.subplots(nrows=rows, ncols=cols)\n",
    "diseaseind = 0\n",
    "for i in range(rows):\n",
    "    for j in range(cols):\n",
    "        if diseaseind >= numdiseases:\n",
    "            diseaseind += 1\n",
    "            continue\n",
    "        if diseaseind in betainds:\n",
    "            axes[i, j].plot(range(1, totalsamples + 1), np.absolute(allavgsamplebetas[diseaseind]), 'bo', markersize=2, label=\"Random SNP Samples\")\n",
    "            axes[i, j].plot((0, totalsamples + 1), (np.absolute(allavgbetas[diseaseind]), np.absolute(allavgbetas[diseaseind])), 'r-', label=\"Disease SNPs\")\n",
    "        else:\n",
    "            axes[i, j].plot(range(1, totalsamples + 1), np.absolute(np.log10(allavgsamplebetas[diseaseind])), 'bo', markersize=2, label=\"Random SNP Samples\")\n",
    "            axes[i, j].plot((0, totalsamples + 1), (np.absolute(np.log10(allavgbetas[diseaseind])), np.absolute(np.log10(allavgbetas[diseaseind]))), 'r-', label=\"Disease SNPs\")\n",
    "        axes[i, j].set_title(diseases[diseaseind], fontsize=5)\n",
    "        axes[i, j].set_xlim(0, totalsamples + 1)\n",
    "        axes[i, j].tick_params(axis='both', labelsize=3)\n",
    "        if diseaseind in betainds:\n",
    "            axes[i, j].set_ylabel(\"|Avg Effect Size| (Beta)\", fontsize=5)\n",
    "        else:\n",
    "            axes[i, j].set_ylabel(\"|log(Avg Effect Size)| (OR)\", fontsize=5)\n",
    "        diseaseind +=1\n",
    "\n",
    "fig.suptitle(\"Disease Scatter Plots\")\n",
    "plt.savefig(\"plots/allscatter.pdf\")"
   ]
  },
  {
   "cell_type": "markdown",
   "metadata": {},
   "source": [
    "Individual violin and box plots are also created for each disease."
   ]
  },
  {
   "cell_type": "code",
   "execution_count": 16,
   "metadata": {
    "collapsed": true
   },
   "outputs": [],
   "source": [
    "# Individual plots\n",
    "pos = [1, 2]\n",
    "labels = [\"Disease-Linked SNPs\", \"All SNPs\"]\n",
    "\n",
    "for i in range(numdiseases):\n",
    "    # Violin plots\n",
    "    plt.clf()\n",
    "    if i in betainds:\n",
    "        plt.violinplot([np.absolute(diseasesnpbetas[i]), np.absolute(alldiseasesnpbetas[i])], pos, points=40, widths=.5, showmeans=True, showextrema=True)\n",
    "        plt.ylabel(\"|Effect Size| (Beta)\")\n",
    "    else:\n",
    "        plt.violinplot([np.absolute(np.log10(diseasesnpbetas[i])), np.absolute(np.log10(alldiseasesnpbetas[i]))], pos, points=40, widths=.5, showmeans=True, showextrema=True)\n",
    "        plt.ylabel(\"|log(Effect Size)| (OR)\")\n",
    "    plt.title(diseases[i] + \" Violin Plot\", fontsize=10)\n",
    "    plt.xticks(pos, labels)\n",
    "    plt.xlabel(\"Distribution\")\n",
    "    plt.savefig(\"plots/violinplots/\" + diseases[i] + \"violin.pdf\")\n",
    "\n",
    "    # Box pots\n",
    "    plt.clf()\n",
    "    if i in betainds:\n",
    "        plt.boxplot([np.absolute(diseasesnpbetas[i]), np.absolute(alldiseasesnpbetas[i])], 0, '')\n",
    "        plt.ylabel(\"|Effect Size| (Beta)\")\n",
    "    else:\n",
    "        plt.boxplot([np.absolute(np.log10(diseasesnpbetas[i])), np.absolute(np.log10(alldiseasesnpbetas[i]))], 0, '')\n",
    "        plt.ylabel(\"log|Effect Size| (OR)\")\n",
    "    plt.xticks(pos, labels)\n",
    "    plt.xlabel(\"Distribution\")\n",
    "\n",
    "    plt.title(diseases[i] + \" Box Plot\", fontsize=10)\n",
    "    plt.savefig(\"plots/boxplots/\" + diseases[i] + \"box.pdf\")"
   ]
  }
 ],
 "metadata": {
  "anaconda-cloud": {},
  "kernelspec": {
   "display_name": "Python [conda root]",
   "language": "python",
   "name": "conda-root-py"
  },
  "language_info": {
   "codemirror_mode": {
    "name": "ipython",
    "version": 2
   },
   "file_extension": ".py",
   "mimetype": "text/x-python",
   "name": "python",
   "nbconvert_exporter": "python",
   "pygments_lexer": "ipython2",
   "version": "2.7.12"
  }
 },
 "nbformat": 4,
 "nbformat_minor": 1
}
